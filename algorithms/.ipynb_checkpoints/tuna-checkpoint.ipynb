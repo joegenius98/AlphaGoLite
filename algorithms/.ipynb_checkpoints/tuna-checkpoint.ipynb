{
 "cells": [
  {
   "cell_type": "code",
   "execution_count": null,
   "id": "f097defc",
   "metadata": {},
   "outputs": [],
   "source": [
    "import gym\n",
    "\n",
    "go_env = gym.make('gym_go:go-v0', size=7, komi=0, reward_method='real')\n",
    "\n",
    "first_action = (2,5)\n",
    "second_action = (5,2)\n",
    "state, reward, done, info = go_env.step(first_action)\n",
    "go_env.render('terminal')"
   ]
  }
 ],
 "metadata": {
  "kernelspec": {
   "display_name": "Python 3 (ipykernel)",
   "language": "python",
   "name": "python3"
  },
  "language_info": {
   "codemirror_mode": {
    "name": "ipython",
    "version": 3
   },
   "file_extension": ".py",
   "mimetype": "text/x-python",
   "name": "python",
   "nbconvert_exporter": "python",
   "pygments_lexer": "ipython3",
   "version": "3.9.9"
  }
 },
 "nbformat": 4,
 "nbformat_minor": 5
}
